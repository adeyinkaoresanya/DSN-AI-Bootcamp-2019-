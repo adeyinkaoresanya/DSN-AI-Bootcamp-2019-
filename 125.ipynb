{
  "nbformat": 4,
  "nbformat_minor": 0,
  "metadata": {
    "kernelspec": {
      "display_name": "Python 3",
      "language": "python",
      "name": "python3"
    },
    "language_info": {
      "codemirror_mode": {
        "name": "ipython",
        "version": 3
      },
      "file_extension": ".py",
      "mimetype": "text/x-python",
      "name": "python",
      "nbconvert_exporter": "python",
      "pygments_lexer": "ipython3",
      "version": "3.7.6"
    },
    "colab": {
      "name": "125.ipynb",
      "provenance": [],
      "toc_visible": true
    }
  },
  "cells": [
    {
      "cell_type": "markdown",
      "metadata": {
        "id": "FmyB_wCAwsEC"
      },
      "source": [
        "# Module 1: Data Science Fundamentals"
      ]
    },
    {
      "cell_type": "markdown",
      "metadata": {
        "id": "gAt3f5SgwsET"
      },
      "source": [
        "## Sprint 2: Statistical Tests and Experiments"
      ]
    },
    {
      "cell_type": "markdown",
      "metadata": {
        "id": "uiIV3qSrwsEU"
      },
      "source": [
        "## Let's analyse Udacity A/B test!"
      ]
    },
    {
      "cell_type": "markdown",
      "metadata": {
        "id": "XBheuXlewsEU"
      },
      "source": [
        "<div><img style=\"height: 350px;\" src=\"https://upload.wikimedia.org/wikipedia/commons/3/3b/Udacity_logo.png\" /></div>"
      ]
    },
    {
      "cell_type": "markdown",
      "metadata": {
        "id": "e4MvezVJwsEV"
      },
      "source": [
        "## Background"
      ]
    },
    {
      "cell_type": "markdown",
      "metadata": {
        "id": "dTl3qlV0wsEV"
      },
      "source": [
        "For the last day of this sprint, we are analyzing once run, online Udacity A/B test results! The dataset is part of the Udacity Google's A/B testing course, which we have watched a couple of lessons from in Subproject 2 of this sprint."
      ]
    },
    {
      "cell_type": "markdown",
      "metadata": {
        "id": "sOi8qlJ_wsEV"
      },
      "source": [
        "Data is available at https://docs.google.com/spreadsheets/d/1Mu5u9GrybDdska-ljPXyBjTpdZIUev_6i7t4LRDfXM8/edit#gid=0"
      ]
    },
    {
      "cell_type": "markdown",
      "metadata": {
        "id": "12MVaNLVwsEW"
      },
      "source": [
        "---------"
      ]
    },
    {
      "cell_type": "markdown",
      "metadata": {
        "id": "POlRB9OgwsEW"
      },
      "source": [
        "## How to start?"
      ]
    },
    {
      "cell_type": "markdown",
      "metadata": {
        "id": "Kwsxd55BwsEX"
      },
      "source": [
        "The data consists of two sheets, each for different group of the test. Download the sheets as CSVs and union them to form 1 dataset."
      ]
    },
    {
      "cell_type": "markdown",
      "metadata": {
        "id": "AJ0R6nYewsEX"
      },
      "source": [
        "## Concepts to explore"
      ]
    },
    {
      "cell_type": "markdown",
      "metadata": {
        "id": "wboZtVtRwsEX"
      },
      "source": [
        "You will mostly focus on statistical hypothesis testing in this project on real-life data."
      ]
    },
    {
      "cell_type": "markdown",
      "metadata": {
        "id": "MCZLF7BxwsEX"
      },
      "source": [
        "## Requirements"
      ]
    },
    {
      "cell_type": "markdown",
      "metadata": {
        "id": "gt8UI73PwsEY"
      },
      "source": [
        "* Visualize 95% confidence interval between control and experiment groups on [click-through rate](https://en.wikipedia.org/wiki/Click-through_rate) metric. Explain what the confidence interval means, what's the relationship with the population of a group.\n",
        "* Verify that the difference in each of the metrics between control and experiment groups is statistically significant using z-test, 95% confidence level.\n",
        "* Verify that the difference in each of the metrics between control and experiment groups is statistically significant using t-test, 95% confidence level.\n",
        "* Compare both test method results. Explain why they differ / do not differ that much and why.\n",
        "* Choose 1 method (either z or t) and explore statistical significance of any metric under different confidence levels - 60%, 90%, 95%, 99%. If conclusions about significance differ under different confidence levels, explain why.\n",
        "* Calculate p-values."
      ]
    },
    {
      "cell_type": "markdown",
      "metadata": {
        "id": "LRAfqts2wsEY"
      },
      "source": [
        "## Evaluation Criteria"
      ]
    },
    {
      "cell_type": "markdown",
      "metadata": {
        "id": "dBFo_2m2wsEY"
      },
      "source": [
        "- Correctness of used test methods.\n",
        "- Soundness of explanations given.\n",
        "- Adherence to the requirements."
      ]
    },
    {
      "cell_type": "markdown",
      "metadata": {
        "id": "-n2CCHqnwsEZ"
      },
      "source": [
        "\n",
        "## Sample correction questions\n",
        "\n",
        "During a correction, you may get asked questions that test your understanding of covered topics.\n",
        "\n",
        "- Why collect data from sample rather than data from a population?\n",
        "- What is the Central Limit Theorem and why is it important?\n",
        "- Explain confidence intervals and significance in statistics\n",
        "- Explain what p-value is"
      ]
    },
    {
      "cell_type": "markdown",
      "metadata": {
        "id": "cjYMuRr0wyWV"
      },
      "source": [
        "# **Introduction**\n",
        "\n",
        "## Experiment Overview: Free Trial Screener"
      ]
    },
    {
      "cell_type": "markdown",
      "metadata": {
        "id": "3034viSsxBN0"
      },
      "source": [
        "Udacity tested a change on their website where if the student clicked the \"start free trial\" button on the course overview page, they were asked how much time they had available to devote to the course. If the student indicated 5 or more hours per week, they would be taken through the checkout process as usual. If they indicated fewer than 5 hours per week, a message would appear indicating that Udacity courses usually require a greater time commitment for successful completion, and suggesting that the student might like to access the course materials for free. At this point, the student would have the option to continue enrolling in the free trial,  or access the course materials for free instead. \n",
        "\n",
        "It is assumed that the free trial screener will reduce the number of students who leave the free trial because of lack of time and increase the likelihood of students who continue past the free trial to eventually make payments and complete the course.\n",
        "\n",
        "\n",
        "The overall business objective is to increase the likelihood that students who continue past the free trial will make payments and their complete courses\n"
      ]
    },
    {
      "cell_type": "markdown",
      "metadata": {
        "id": "NVMqXWMXxGIt"
      },
      "source": [
        "H0: There is no significant difference between students who went through the free trial screener and those who did not.\n",
        "\n",
        "Ha: There is a significant difference between students who went through the free trial screener and those who did not."
      ]
    },
    {
      "cell_type": "markdown",
      "metadata": {
        "id": "OYoMoWnjzHA-"
      },
      "source": [
        ""
      ]
    },
    {
      "cell_type": "markdown",
      "metadata": {
        "id": "78Zq6Wk2yu9R"
      },
      "source": [
        "Metrics:\n",
        "\n",
        "Click-through rate\n",
        "\n",
        "Retention\n",
        "\n",
        "Gross conversion\n",
        "\n",
        "Net conversion"
      ]
    },
    {
      "cell_type": "code",
      "metadata": {
        "colab": {
          "base_uri": "https://localhost:8080/"
        },
        "id": "nnL3_IxC7FF0",
        "outputId": "b5ecea9d-3707-4d64-ee6b-a2e1d19e622e"
      },
      "source": [
        "from google.colab import drive\n",
        "drive.mount(\"/content/drive\")"
      ],
      "execution_count": 1,
      "outputs": [
        {
          "output_type": "stream",
          "text": [
            "Mounted at /content/drive\n"
          ],
          "name": "stdout"
        }
      ]
    },
    {
      "cell_type": "code",
      "metadata": {
        "id": "y8Z33khV3CrX"
      },
      "source": [
        "import numpy as np\n",
        "import pandas as pd\n",
        "import scipy.stats as stats"
      ],
      "execution_count": 20,
      "outputs": []
    },
    {
      "cell_type": "code",
      "metadata": {
        "id": "B3reHHnB3qZM"
      },
      "source": [
        "control =  pd.read_csv('/content/drive/My Drive/125/Control.csv')\n",
        "\n",
        "experiment = pd.read_csv('/content/drive/My Drive/125/Experiment.csv')\n"
      ],
      "execution_count": 3,
      "outputs": []
    },
    {
      "cell_type": "code",
      "metadata": {
        "id": "QYE21mKf30CQ"
      },
      "source": [
        "data = pd.merge(control, experiment, on= 'Date', how = 'inner')"
      ],
      "execution_count": 4,
      "outputs": []
    },
    {
      "cell_type": "code",
      "metadata": {
        "colab": {
          "base_uri": "https://localhost:8080/",
          "height": 197
        },
        "id": "cE_jA7TJ6G8X",
        "outputId": "fde6da07-8359-4b8e-9b15-f60bfe02a834"
      },
      "source": [
        "data.head()"
      ],
      "execution_count": 5,
      "outputs": [
        {
          "output_type": "execute_result",
          "data": {
            "text/html": [
              "<div>\n",
              "<style scoped>\n",
              "    .dataframe tbody tr th:only-of-type {\n",
              "        vertical-align: middle;\n",
              "    }\n",
              "\n",
              "    .dataframe tbody tr th {\n",
              "        vertical-align: top;\n",
              "    }\n",
              "\n",
              "    .dataframe thead th {\n",
              "        text-align: right;\n",
              "    }\n",
              "</style>\n",
              "<table border=\"1\" class=\"dataframe\">\n",
              "  <thead>\n",
              "    <tr style=\"text-align: right;\">\n",
              "      <th></th>\n",
              "      <th>Date</th>\n",
              "      <th>Pageviews_ctl</th>\n",
              "      <th>Clicks_ctl</th>\n",
              "      <th>Enrollments_ctl</th>\n",
              "      <th>Payments_ctl</th>\n",
              "      <th>Pageviews_exp</th>\n",
              "      <th>Clicks_exp</th>\n",
              "      <th>Enrollments_exp</th>\n",
              "      <th>Payments_exp</th>\n",
              "    </tr>\n",
              "  </thead>\n",
              "  <tbody>\n",
              "    <tr>\n",
              "      <th>0</th>\n",
              "      <td>Sat, Oct 11</td>\n",
              "      <td>7723</td>\n",
              "      <td>687</td>\n",
              "      <td>134.0</td>\n",
              "      <td>70.0</td>\n",
              "      <td>7716</td>\n",
              "      <td>686</td>\n",
              "      <td>105.0</td>\n",
              "      <td>34.0</td>\n",
              "    </tr>\n",
              "    <tr>\n",
              "      <th>1</th>\n",
              "      <td>Sun, Oct 12</td>\n",
              "      <td>9102</td>\n",
              "      <td>779</td>\n",
              "      <td>147.0</td>\n",
              "      <td>70.0</td>\n",
              "      <td>9288</td>\n",
              "      <td>785</td>\n",
              "      <td>116.0</td>\n",
              "      <td>91.0</td>\n",
              "    </tr>\n",
              "    <tr>\n",
              "      <th>2</th>\n",
              "      <td>Mon, Oct 13</td>\n",
              "      <td>10511</td>\n",
              "      <td>909</td>\n",
              "      <td>167.0</td>\n",
              "      <td>95.0</td>\n",
              "      <td>10480</td>\n",
              "      <td>884</td>\n",
              "      <td>145.0</td>\n",
              "      <td>79.0</td>\n",
              "    </tr>\n",
              "    <tr>\n",
              "      <th>3</th>\n",
              "      <td>Tue, Oct 14</td>\n",
              "      <td>9871</td>\n",
              "      <td>836</td>\n",
              "      <td>156.0</td>\n",
              "      <td>105.0</td>\n",
              "      <td>9867</td>\n",
              "      <td>827</td>\n",
              "      <td>138.0</td>\n",
              "      <td>92.0</td>\n",
              "    </tr>\n",
              "    <tr>\n",
              "      <th>4</th>\n",
              "      <td>Wed, Oct 15</td>\n",
              "      <td>10014</td>\n",
              "      <td>837</td>\n",
              "      <td>163.0</td>\n",
              "      <td>64.0</td>\n",
              "      <td>9793</td>\n",
              "      <td>832</td>\n",
              "      <td>140.0</td>\n",
              "      <td>94.0</td>\n",
              "    </tr>\n",
              "  </tbody>\n",
              "</table>\n",
              "</div>"
            ],
            "text/plain": [
              "          Date  Pageviews_ctl  ...  Enrollments_exp  Payments_exp\n",
              "0  Sat, Oct 11           7723  ...            105.0          34.0\n",
              "1  Sun, Oct 12           9102  ...            116.0          91.0\n",
              "2  Mon, Oct 13          10511  ...            145.0          79.0\n",
              "3  Tue, Oct 14           9871  ...            138.0          92.0\n",
              "4  Wed, Oct 15          10014  ...            140.0          94.0\n",
              "\n",
              "[5 rows x 9 columns]"
            ]
          },
          "metadata": {
            "tags": []
          },
          "execution_count": 5
        }
      ]
    },
    {
      "cell_type": "markdown",
      "metadata": {
        "id": "t2QdGTCE7fLu"
      },
      "source": [
        "## Sanity Check"
      ]
    },
    {
      "cell_type": "code",
      "metadata": {
        "id": "an-MHDWF-ijS"
      },
      "source": [
        "total_control = data.Pageviews_ctl.sum()\n",
        "total_experiment = data.Pageviews_exp.sum()\n",
        "observed_fraction_control = total_control / (total_control + total_experiment)"
      ],
      "execution_count": 6,
      "outputs": []
    },
    {
      "cell_type": "code",
      "metadata": {
        "colab": {
          "base_uri": "https://localhost:8080/"
        },
        "id": "JILeFnyh_w41",
        "outputId": "b6588aff-1097-4f91-c75d-be679ac47cf8"
      },
      "source": [
        "standard_deviation = ((0.5*0.5) / (total_control + total_experiment)) ** 0.5\n",
        "round(standard_deviation, 6)\n",
        "\n",
        "margin_of_error = standard_deviation * 1.96\n",
        "\n",
        "lower_bound = 0.5 - margin_of_error\n",
        "upper_bound = 0.5 + margin_of_error\n",
        "print(f'The confidence is interval is between {lower_bound:.{4}f} and {upper_bound:.{4}f}')\n",
        "\n",
        "print(f'Observed fraction of Control is {observed_fraction_control: .{4}f} ')"
      ],
      "execution_count": 7,
      "outputs": [
        {
          "output_type": "stream",
          "text": [
            "The confidence is interval is between 0.4988 and 0.5012\n",
            "Observed fraction of Control is  0.5006 \n"
          ],
          "name": "stdout"
        }
      ]
    },
    {
      "cell_type": "markdown",
      "metadata": {
        "id": "EyxSlpicATu5"
      },
      "source": [
        "The observed fraction is within what is expected, hence sanity check passed!"
      ]
    },
    {
      "cell_type": "markdown",
      "metadata": {
        "id": "5s4pp_OAExYv"
      },
      "source": [
        "1. 95% confidence interval between control and experiment groups on click-through rate\n",
        "\n",
        ". Explain what the confidence interval means, what's the relationship with the population of a group."
      ]
    },
    {
      "cell_type": "markdown",
      "metadata": {
        "id": "smhjWvxMqtO6"
      },
      "source": [
        "clickthrough rate = number of clicks /  number of pageviews"
      ]
    },
    {
      "cell_type": "code",
      "metadata": {
        "colab": {
          "base_uri": "https://localhost:8080/"
        },
        "id": "XQb6GZvVrchH",
        "outputId": "30dae50d-6524-4dd4-9258-123fa3080403"
      },
      "source": [
        "p1 = data.Clicks_ctl.sum() / data.Pageviews_ctl.sum() #proportion of clicks in control\n",
        "n1 = data.Pageviews_ctl.sum()                         #total pageviews in control\n",
        "\n",
        "p2 = data.Clicks_exp.sum() / data.Pageviews_exp.sum() #proportion of click in experiment\n",
        "n2 = data.Pageviews_exp.sum()                         #total pageviews in experiment\n",
        "\n",
        "p_diff = p2 - p1                                       #difference between the two proportions\n",
        "\n",
        "standard_error_pooled = np.sqrt(((p1 * (1- p1))/n1 + (p2 * (1- p2))/n2 ))  #pooled standard error\n",
        "z_critical = stats.norm.ppf(q = 0.975)                                     #critical value at 95% confidence level\n",
        "margin_of_error = standard_error_pooled * z_critical                        #critical value at 95% confidence level\n",
        "\n",
        "upperbound = p_diff + margin_of_error\n",
        "lowerbound = p_diff - margin_of_error\n",
        "\n",
        "print(f'The confidence interval is between {lowerbound:.{4}f} and {upperbound:.{4}f}')"
      ],
      "execution_count": 27,
      "outputs": [
        {
          "output_type": "stream",
          "text": [
            "The confidence interval is between -0.0012 and 0.0014\n"
          ],
          "name": "stdout"
        }
      ]
    },
    {
      "cell_type": "code",
      "metadata": {
        "id": "y_hlol0vEK8N"
      },
      "source": [
        ""
      ],
      "execution_count": null,
      "outputs": []
    },
    {
      "cell_type": "code",
      "metadata": {
        "id": "N28MjJSfFT4f"
      },
      "source": [
        ""
      ],
      "execution_count": null,
      "outputs": []
    },
    {
      "cell_type": "code",
      "metadata": {
        "id": "9lXDk7giFT5-"
      },
      "source": [
        ""
      ],
      "execution_count": null,
      "outputs": []
    },
    {
      "cell_type": "code",
      "metadata": {
        "id": "19wPMnmjFT-Y"
      },
      "source": [
        ""
      ],
      "execution_count": null,
      "outputs": []
    },
    {
      "cell_type": "markdown",
      "metadata": {
        "id": "o211UKdRFT_l"
      },
      "source": [
        "## T-Test for Metrics\n"
      ]
    },
    {
      "cell_type": "code",
      "metadata": {
        "id": "TovSL8EmGr_l"
      },
      "source": [
        "data['ctr_control']= data['Clicks_ctl'] / data['Pageviews_ctl']\n",
        "data['ctr_experiment']= data['Clicks_exp'] / data['Pageviews_exp']"
      ],
      "execution_count": 40,
      "outputs": []
    },
    {
      "cell_type": "code",
      "metadata": {
        "id": "M7f1iYEeOklB"
      },
      "source": [
        "df = data[data.Enrollments_ctl.notnull()]\n",
        "data2 = df.copy()"
      ],
      "execution_count": 60,
      "outputs": []
    },
    {
      "cell_type": "code",
      "metadata": {
        "id": "mNFAguniOwGa"
      },
      "source": [
        "data2['retention_control']= data2['Payments_ctl'] / data2['Enrollments_ctl']\n",
        "data2['retention_experiment']= data2['Payments_exp'] / data2['Enrollments_exp']\n",
        "\n",
        "data2['GrossConversion_control']= data2['Enrollments_ctl'] / data2['Clicks_ctl']\n",
        "data2['GrossConversion_experiment']= data2['Enrollments_exp'] / data2['Clicks_exp']\n",
        "\n",
        "data2['NetConversion_control']= data2['Payments_ctl'] / data2['Clicks_ctl']\n",
        "data2['NetConversion_experiment']= data2['Payments_exp'] / data2['Clicks_exp']"
      ],
      "execution_count": 61,
      "outputs": []
    },
    {
      "cell_type": "code",
      "metadata": {
        "colab": {
          "base_uri": "https://localhost:8080/",
          "height": 384
        },
        "id": "DFsoEtOxRvL_",
        "outputId": "93066560-230a-481a-f51a-3c2a44092577"
      },
      "source": [
        "data2.head()"
      ],
      "execution_count": 62,
      "outputs": [
        {
          "output_type": "execute_result",
          "data": {
            "text/html": [
              "<div>\n",
              "<style scoped>\n",
              "    .dataframe tbody tr th:only-of-type {\n",
              "        vertical-align: middle;\n",
              "    }\n",
              "\n",
              "    .dataframe tbody tr th {\n",
              "        vertical-align: top;\n",
              "    }\n",
              "\n",
              "    .dataframe thead th {\n",
              "        text-align: right;\n",
              "    }\n",
              "</style>\n",
              "<table border=\"1\" class=\"dataframe\">\n",
              "  <thead>\n",
              "    <tr style=\"text-align: right;\">\n",
              "      <th></th>\n",
              "      <th>Date</th>\n",
              "      <th>Pageviews_ctl</th>\n",
              "      <th>Clicks_ctl</th>\n",
              "      <th>Enrollments_ctl</th>\n",
              "      <th>Payments_ctl</th>\n",
              "      <th>Pageviews_exp</th>\n",
              "      <th>Clicks_exp</th>\n",
              "      <th>Enrollments_exp</th>\n",
              "      <th>Payments_exp</th>\n",
              "      <th>ctr_control</th>\n",
              "      <th>ctr_experiment</th>\n",
              "      <th>retention_control</th>\n",
              "      <th>retention_experiment</th>\n",
              "      <th>GrossConversion_control</th>\n",
              "      <th>GrossConversion_experiment</th>\n",
              "      <th>NetConversion_control</th>\n",
              "      <th>NetConversion_experiment</th>\n",
              "    </tr>\n",
              "  </thead>\n",
              "  <tbody>\n",
              "    <tr>\n",
              "      <th>0</th>\n",
              "      <td>Sat, Oct 11</td>\n",
              "      <td>7723</td>\n",
              "      <td>687</td>\n",
              "      <td>134.0</td>\n",
              "      <td>70.0</td>\n",
              "      <td>7716</td>\n",
              "      <td>686</td>\n",
              "      <td>105.0</td>\n",
              "      <td>34.0</td>\n",
              "      <td>0.088955</td>\n",
              "      <td>0.088906</td>\n",
              "      <td>0.522388</td>\n",
              "      <td>0.323810</td>\n",
              "      <td>0.195051</td>\n",
              "      <td>0.153061</td>\n",
              "      <td>0.101892</td>\n",
              "      <td>0.049563</td>\n",
              "    </tr>\n",
              "    <tr>\n",
              "      <th>1</th>\n",
              "      <td>Sun, Oct 12</td>\n",
              "      <td>9102</td>\n",
              "      <td>779</td>\n",
              "      <td>147.0</td>\n",
              "      <td>70.0</td>\n",
              "      <td>9288</td>\n",
              "      <td>785</td>\n",
              "      <td>116.0</td>\n",
              "      <td>91.0</td>\n",
              "      <td>0.085586</td>\n",
              "      <td>0.084518</td>\n",
              "      <td>0.476190</td>\n",
              "      <td>0.784483</td>\n",
              "      <td>0.188703</td>\n",
              "      <td>0.147771</td>\n",
              "      <td>0.089859</td>\n",
              "      <td>0.115924</td>\n",
              "    </tr>\n",
              "    <tr>\n",
              "      <th>2</th>\n",
              "      <td>Mon, Oct 13</td>\n",
              "      <td>10511</td>\n",
              "      <td>909</td>\n",
              "      <td>167.0</td>\n",
              "      <td>95.0</td>\n",
              "      <td>10480</td>\n",
              "      <td>884</td>\n",
              "      <td>145.0</td>\n",
              "      <td>79.0</td>\n",
              "      <td>0.086481</td>\n",
              "      <td>0.084351</td>\n",
              "      <td>0.568862</td>\n",
              "      <td>0.544828</td>\n",
              "      <td>0.183718</td>\n",
              "      <td>0.164027</td>\n",
              "      <td>0.104510</td>\n",
              "      <td>0.089367</td>\n",
              "    </tr>\n",
              "    <tr>\n",
              "      <th>3</th>\n",
              "      <td>Tue, Oct 14</td>\n",
              "      <td>9871</td>\n",
              "      <td>836</td>\n",
              "      <td>156.0</td>\n",
              "      <td>105.0</td>\n",
              "      <td>9867</td>\n",
              "      <td>827</td>\n",
              "      <td>138.0</td>\n",
              "      <td>92.0</td>\n",
              "      <td>0.084693</td>\n",
              "      <td>0.083815</td>\n",
              "      <td>0.673077</td>\n",
              "      <td>0.666667</td>\n",
              "      <td>0.186603</td>\n",
              "      <td>0.166868</td>\n",
              "      <td>0.125598</td>\n",
              "      <td>0.111245</td>\n",
              "    </tr>\n",
              "    <tr>\n",
              "      <th>4</th>\n",
              "      <td>Wed, Oct 15</td>\n",
              "      <td>10014</td>\n",
              "      <td>837</td>\n",
              "      <td>163.0</td>\n",
              "      <td>64.0</td>\n",
              "      <td>9793</td>\n",
              "      <td>832</td>\n",
              "      <td>140.0</td>\n",
              "      <td>94.0</td>\n",
              "      <td>0.083583</td>\n",
              "      <td>0.084959</td>\n",
              "      <td>0.392638</td>\n",
              "      <td>0.671429</td>\n",
              "      <td>0.194743</td>\n",
              "      <td>0.168269</td>\n",
              "      <td>0.076464</td>\n",
              "      <td>0.112981</td>\n",
              "    </tr>\n",
              "  </tbody>\n",
              "</table>\n",
              "</div>"
            ],
            "text/plain": [
              "          Date  Pageviews_ctl  ...  NetConversion_control  NetConversion_experiment\n",
              "0  Sat, Oct 11           7723  ...               0.101892                  0.049563\n",
              "1  Sun, Oct 12           9102  ...               0.089859                  0.115924\n",
              "2  Mon, Oct 13          10511  ...               0.104510                  0.089367\n",
              "3  Tue, Oct 14           9871  ...               0.125598                  0.111245\n",
              "4  Wed, Oct 15          10014  ...               0.076464                  0.112981\n",
              "\n",
              "[5 rows x 17 columns]"
            ]
          },
          "metadata": {
            "tags": []
          },
          "execution_count": 62
        }
      ]
    },
    {
      "cell_type": "markdown",
      "metadata": {
        "id": "rxqB1chOFwZP"
      },
      "source": [
        "1. Test of difference in clickthrough rates"
      ]
    },
    {
      "cell_type": "code",
      "metadata": {
        "colab": {
          "base_uri": "https://localhost:8080/"
        },
        "id": "_n7YBSKVJxFe",
        "outputId": "ccd4626b-5561-47fb-a825-f2d101475a62"
      },
      "source": [
        "t_stat, p_val= stats.ttest_ind(data.ctr_control, data.ctr_experiment)\n",
        "t_stat , p_val"
      ],
      "execution_count": 31,
      "outputs": [
        {
          "output_type": "execute_result",
          "data": {
            "text/plain": [
              "(-0.08302608446561602, 0.9340611962072063)"
            ]
          },
          "metadata": {
            "tags": []
          },
          "execution_count": 31
        }
      ]
    },
    {
      "cell_type": "markdown",
      "metadata": {
        "id": "3sZW6CQnRDd_"
      },
      "source": [
        "2. Test of difference in retention rates"
      ]
    },
    {
      "cell_type": "code",
      "metadata": {
        "colab": {
          "base_uri": "https://localhost:8080/"
        },
        "id": "u9k9r5buRiG0",
        "outputId": "e00298b5-3201-4d6c-a7dd-3430589e3ff7"
      },
      "source": [
        "t_stat, p_val= stats.ttest_ind(data2.retention_control, data2.retention_experiment)\n",
        "t_stat , p_val"
      ],
      "execution_count": 64,
      "outputs": [
        {
          "output_type": "execute_result",
          "data": {
            "text/plain": [
              "(-1.0081408912731535, 0.3188989662061842)"
            ]
          },
          "metadata": {
            "tags": []
          },
          "execution_count": 64
        }
      ]
    },
    {
      "cell_type": "markdown",
      "metadata": {
        "id": "iynSj15WROKR"
      },
      "source": [
        "3. Test of difference in gross conversion"
      ]
    },
    {
      "cell_type": "code",
      "metadata": {
        "colab": {
          "base_uri": "https://localhost:8080/"
        },
        "id": "yA1U5feEKq1X",
        "outputId": "aea01fbf-8267-4b78-fbb3-d3d8a0dbac36"
      },
      "source": [
        "t_stat, p_val= stats.ttest_ind(data2.GrossConversion_control, data2.GrossConversion_experiment)\n",
        "t_stat , p_val"
      ],
      "execution_count": 65,
      "outputs": [
        {
          "output_type": "execute_result",
          "data": {
            "text/plain": [
              "(1.5396752696188791, 0.13080105104323278)"
            ]
          },
          "metadata": {
            "tags": []
          },
          "execution_count": 65
        }
      ]
    },
    {
      "cell_type": "markdown",
      "metadata": {
        "id": "DMr94m_iROLd"
      },
      "source": [
        "4. Test of difference in net conversion"
      ]
    },
    {
      "cell_type": "code",
      "metadata": {
        "colab": {
          "base_uri": "https://localhost:8080/"
        },
        "id": "WjQuh29PSCyU",
        "outputId": "d6fc1ba5-b42b-429b-f749-74cec2754a11"
      },
      "source": [
        "t_stat, p_val= stats.ttest_ind(data2.NetConversion_control, data2.NetConversion_experiment)\n",
        "t_stat , p_val"
      ],
      "execution_count": 67,
      "outputs": [
        {
          "output_type": "execute_result",
          "data": {
            "text/plain": [
              "(0.5387777625331603, 0.5927558614268024)"
            ]
          },
          "metadata": {
            "tags": []
          },
          "execution_count": 67
        }
      ]
    },
    {
      "cell_type": "code",
      "metadata": {
        "id": "0E6jbcVeROQC"
      },
      "source": [
        ""
      ],
      "execution_count": null,
      "outputs": []
    },
    {
      "cell_type": "code",
      "metadata": {
        "id": "c6PWYXJwLLnG"
      },
      "source": [
        ""
      ],
      "execution_count": null,
      "outputs": []
    },
    {
      "cell_type": "markdown",
      "metadata": {
        "id": "o8uCOj7hKTff"
      },
      "source": [
        "* Visualize 95% confidence interval between control and experiment groups on [click-through rate](https://en.wikipedia.org/wiki/Click-through_rate) metric. Explain what the confidence interval means, what's the relationship with the population of a group.\n",
        "* Verify that the difference in each of the metrics between control and experiment groups is statistically significant using z-test, 95% confidence level.\n",
        "* Verify that the difference in each of the metrics between control and experiment groups is statistically significant using t-test, 95% confidence level.\n",
        "* Compare both test method results. Explain why they differ / do not differ that much and why.\n",
        "* Choose 1 method (either z or t) and explore statistical significance of any metric under different confidence levels - 60%, 90%, 95%, 99%. If conclusions about significance differ under different confidence levels, explain why.\n",
        "* Calculate p-values."
      ]
    },
    {
      "cell_type": "code",
      "metadata": {
        "id": "CL8cDE14LK3i"
      },
      "source": [
        ""
      ],
      "execution_count": null,
      "outputs": []
    },
    {
      "cell_type": "code",
      "metadata": {
        "id": "bA2mGnv5F1oe"
      },
      "source": [
        "treatment = data.loc[(data.group == 'treatment') & (data.landing_page == 'new_page')]\n",
        "treatment_converted= treatment.loc[treatment.converted==1]\n",
        "treatment_converted_group= treatment_converted.groupby('date')['converted'].count().reset_index()\n",
        "treatment_total_group= treatment.groupby('date')['landing_page'].count().reset_index()\n",
        "treatment_converted_group['treatment_conversion_rate'] = treatment_converted_group['converted']/treatment_total_group['landing_page']\n",
        "treatment_converted_group.head()"
      ],
      "execution_count": null,
      "outputs": []
    }
  ]
}